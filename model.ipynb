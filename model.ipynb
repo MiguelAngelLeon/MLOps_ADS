{
 "cells": [
  {
   "cell_type": "markdown",
   "metadata": {},
   "source": [
    "# Imports"
   ]
  },
  {
   "cell_type": "code",
   "execution_count": 1,
   "metadata": {},
   "outputs": [],
   "source": [
    "# pip list >> req.txt"
   ]
  },
  {
   "cell_type": "code",
   "execution_count": 1,
   "metadata": {},
   "outputs": [
    {
     "name": "stdout",
     "output_type": "stream",
     "text": [
      "Collecting pandas==2.2.2 (from -r requirements.txt (line 1))\n",
      "  Using cached pandas-2.2.2-cp39-cp39-win_amd64.whl.metadata (19 kB)\n",
      "Collecting scikit-learn==1.5.0 (from -r requirements.txt (line 2))\n",
      "  Using cached scikit_learn-1.5.0-cp39-cp39-win_amd64.whl.metadata (11 kB)\n",
      "Collecting mlflow==2.13.0 (from -r requirements.txt (line 3))\n",
      "  Using cached mlflow-2.13.0-py3-none-any.whl.metadata (29 kB)\n",
      "Collecting numpy>=1.22.4 (from pandas==2.2.2->-r requirements.txt (line 1))\n",
      "  Using cached numpy-1.26.4-cp39-cp39-win_amd64.whl.metadata (61 kB)\n",
      "Requirement already satisfied: python-dateutil>=2.8.2 in a:\\projects\\unicauca\\maestria\\semestre3\\ads\\mlops\\ads mlops\\.venv\\lib\\site-packages (from pandas==2.2.2->-r requirements.txt (line 1)) (2.9.0.post0)\n",
      "Collecting pytz>=2020.1 (from pandas==2.2.2->-r requirements.txt (line 1))\n",
      "  Using cached pytz-2024.1-py2.py3-none-any.whl.metadata (22 kB)\n",
      "Collecting tzdata>=2022.7 (from pandas==2.2.2->-r requirements.txt (line 1))\n",
      "  Using cached tzdata-2024.1-py2.py3-none-any.whl.metadata (1.4 kB)\n",
      "Collecting scipy>=1.6.0 (from scikit-learn==1.5.0->-r requirements.txt (line 2))\n",
      "  Using cached scipy-1.13.1-cp39-cp39-win_amd64.whl.metadata (60 kB)\n",
      "Collecting joblib>=1.2.0 (from scikit-learn==1.5.0->-r requirements.txt (line 2))\n",
      "  Using cached joblib-1.4.2-py3-none-any.whl.metadata (5.4 kB)\n",
      "Collecting threadpoolctl>=3.1.0 (from scikit-learn==1.5.0->-r requirements.txt (line 2))\n",
      "  Using cached threadpoolctl-3.5.0-py3-none-any.whl.metadata (13 kB)\n",
      "Collecting Flask<4 (from mlflow==2.13.0->-r requirements.txt (line 3))\n",
      "  Using cached flask-3.0.3-py3-none-any.whl.metadata (3.2 kB)\n",
      "Collecting alembic!=1.10.0,<2 (from mlflow==2.13.0->-r requirements.txt (line 3))\n",
      "  Using cached alembic-1.13.1-py3-none-any.whl.metadata (7.4 kB)\n",
      "Collecting cachetools<6,>=5.0.0 (from mlflow==2.13.0->-r requirements.txt (line 3))\n",
      "  Using cached cachetools-5.3.3-py3-none-any.whl.metadata (5.3 kB)\n",
      "Collecting click<9,>=7.0 (from mlflow==2.13.0->-r requirements.txt (line 3))\n",
      "  Using cached click-8.1.7-py3-none-any.whl.metadata (3.0 kB)\n",
      "Collecting cloudpickle<4 (from mlflow==2.13.0->-r requirements.txt (line 3))\n",
      "  Using cached cloudpickle-3.0.0-py3-none-any.whl.metadata (7.0 kB)\n",
      "Collecting docker<8,>=4.0.0 (from mlflow==2.13.0->-r requirements.txt (line 3))\n",
      "  Using cached docker-7.1.0-py3-none-any.whl.metadata (3.8 kB)\n",
      "Collecting entrypoints<1 (from mlflow==2.13.0->-r requirements.txt (line 3))\n",
      "  Using cached entrypoints-0.4-py3-none-any.whl.metadata (2.6 kB)\n",
      "Collecting gitpython<4,>=3.1.9 (from mlflow==2.13.0->-r requirements.txt (line 3))\n",
      "  Using cached GitPython-3.1.43-py3-none-any.whl.metadata (13 kB)\n",
      "Collecting graphene<4 (from mlflow==2.13.0->-r requirements.txt (line 3))\n",
      "  Using cached graphene-3.3-py2.py3-none-any.whl.metadata (7.7 kB)\n",
      "Requirement already satisfied: importlib-metadata!=4.7.0,<8,>=3.7.0 in a:\\projects\\unicauca\\maestria\\semestre3\\ads\\mlops\\ads mlops\\.venv\\lib\\site-packages (from mlflow==2.13.0->-r requirements.txt (line 3)) (7.1.0)\n",
      "Collecting markdown<4,>=3.3 (from mlflow==2.13.0->-r requirements.txt (line 3))\n",
      "  Using cached Markdown-3.6-py3-none-any.whl.metadata (7.0 kB)\n",
      "Collecting matplotlib<4 (from mlflow==2.13.0->-r requirements.txt (line 3))\n",
      "  Using cached matplotlib-3.9.0-cp39-cp39-win_amd64.whl.metadata (11 kB)\n",
      "Collecting opentelemetry-api<3,>=1.0.0 (from mlflow==2.13.0->-r requirements.txt (line 3))\n",
      "  Using cached opentelemetry_api-1.24.0-py3-none-any.whl.metadata (1.3 kB)\n",
      "Collecting opentelemetry-sdk<3,>=1.0.0 (from mlflow==2.13.0->-r requirements.txt (line 3))\n",
      "  Using cached opentelemetry_sdk-1.24.0-py3-none-any.whl.metadata (1.4 kB)\n",
      "Requirement already satisfied: packaging<25 in a:\\projects\\unicauca\\maestria\\semestre3\\ads\\mlops\\ads mlops\\.venv\\lib\\site-packages (from mlflow==2.13.0->-r requirements.txt (line 3)) (24.0)\n",
      "Collecting protobuf<5,>=3.12.0 (from mlflow==2.13.0->-r requirements.txt (line 3))\n",
      "  Using cached protobuf-4.25.3-cp39-cp39-win_amd64.whl.metadata (541 bytes)\n",
      "Collecting pyarrow<16,>=4.0.0 (from mlflow==2.13.0->-r requirements.txt (line 3))\n",
      "  Using cached pyarrow-15.0.2-cp39-cp39-win_amd64.whl.metadata (3.1 kB)\n",
      "Collecting pyyaml<7,>=5.1 (from mlflow==2.13.0->-r requirements.txt (line 3))\n",
      "  Using cached PyYAML-6.0.1-cp39-cp39-win_amd64.whl.metadata (2.1 kB)\n",
      "Collecting querystring-parser<2 (from mlflow==2.13.0->-r requirements.txt (line 3))\n",
      "  Using cached querystring_parser-1.2.4-py2.py3-none-any.whl.metadata (559 bytes)\n",
      "Collecting requests<3,>=2.17.3 (from mlflow==2.13.0->-r requirements.txt (line 3))\n",
      "  Using cached requests-2.32.2-py3-none-any.whl.metadata (4.6 kB)\n",
      "Collecting sqlalchemy<3,>=1.4.0 (from mlflow==2.13.0->-r requirements.txt (line 3))\n",
      "  Using cached SQLAlchemy-2.0.30-cp39-cp39-win_amd64.whl.metadata (9.8 kB)\n",
      "Collecting sqlparse<1,>=0.4.0 (from mlflow==2.13.0->-r requirements.txt (line 3))\n",
      "  Using cached sqlparse-0.5.0-py3-none-any.whl.metadata (3.9 kB)\n",
      "Collecting Jinja2<4,>=3.0 (from mlflow==2.13.0->-r requirements.txt (line 3))\n",
      "  Using cached jinja2-3.1.4-py3-none-any.whl.metadata (2.6 kB)\n",
      "Collecting waitress<4 (from mlflow==2.13.0->-r requirements.txt (line 3))\n",
      "  Using cached waitress-3.0.0-py3-none-any.whl.metadata (4.2 kB)\n",
      "Collecting Mako (from alembic!=1.10.0,<2->mlflow==2.13.0->-r requirements.txt (line 3))\n",
      "  Using cached Mako-1.3.5-py3-none-any.whl.metadata (2.9 kB)\n",
      "Requirement already satisfied: typing-extensions>=4 in a:\\projects\\unicauca\\maestria\\semestre3\\ads\\mlops\\ads mlops\\.venv\\lib\\site-packages (from alembic!=1.10.0,<2->mlflow==2.13.0->-r requirements.txt (line 3)) (4.12.0)\n",
      "Requirement already satisfied: colorama in a:\\projects\\unicauca\\maestria\\semestre3\\ads\\mlops\\ads mlops\\.venv\\lib\\site-packages (from click<9,>=7.0->mlflow==2.13.0->-r requirements.txt (line 3)) (0.4.6)\n",
      "Requirement already satisfied: pywin32>=304 in a:\\projects\\unicauca\\maestria\\semestre3\\ads\\mlops\\ads mlops\\.venv\\lib\\site-packages (from docker<8,>=4.0.0->mlflow==2.13.0->-r requirements.txt (line 3)) (306)\n",
      "Collecting urllib3>=1.26.0 (from docker<8,>=4.0.0->mlflow==2.13.0->-r requirements.txt (line 3))\n",
      "  Using cached urllib3-2.2.1-py3-none-any.whl.metadata (6.4 kB)\n",
      "Collecting Werkzeug>=3.0.0 (from Flask<4->mlflow==2.13.0->-r requirements.txt (line 3))\n",
      "  Using cached werkzeug-3.0.3-py3-none-any.whl.metadata (3.7 kB)\n",
      "Collecting itsdangerous>=2.1.2 (from Flask<4->mlflow==2.13.0->-r requirements.txt (line 3))\n",
      "  Using cached itsdangerous-2.2.0-py3-none-any.whl.metadata (1.9 kB)\n",
      "Collecting blinker>=1.6.2 (from Flask<4->mlflow==2.13.0->-r requirements.txt (line 3))\n",
      "  Using cached blinker-1.8.2-py3-none-any.whl.metadata (1.6 kB)\n",
      "Collecting gitdb<5,>=4.0.1 (from gitpython<4,>=3.1.9->mlflow==2.13.0->-r requirements.txt (line 3))\n",
      "  Using cached gitdb-4.0.11-py3-none-any.whl.metadata (1.2 kB)\n",
      "Collecting graphql-core<3.3,>=3.1 (from graphene<4->mlflow==2.13.0->-r requirements.txt (line 3))\n",
      "  Using cached graphql_core-3.2.3-py3-none-any.whl.metadata (10 kB)\n",
      "Collecting graphql-relay<3.3,>=3.1 (from graphene<4->mlflow==2.13.0->-r requirements.txt (line 3))\n",
      "  Using cached graphql_relay-3.2.0-py3-none-any.whl.metadata (12 kB)\n",
      "Collecting aniso8601<10,>=8 (from graphene<4->mlflow==2.13.0->-r requirements.txt (line 3))\n",
      "  Using cached aniso8601-9.0.1-py2.py3-none-any.whl.metadata (23 kB)\n",
      "Requirement already satisfied: zipp>=0.5 in a:\\projects\\unicauca\\maestria\\semestre3\\ads\\mlops\\ads mlops\\.venv\\lib\\site-packages (from importlib-metadata!=4.7.0,<8,>=3.7.0->mlflow==2.13.0->-r requirements.txt (line 3)) (3.19.0)\n",
      "Collecting MarkupSafe>=2.0 (from Jinja2<4,>=3.0->mlflow==2.13.0->-r requirements.txt (line 3))\n",
      "  Using cached MarkupSafe-2.1.5-cp39-cp39-win_amd64.whl.metadata (3.1 kB)\n",
      "Collecting contourpy>=1.0.1 (from matplotlib<4->mlflow==2.13.0->-r requirements.txt (line 3))\n",
      "  Using cached contourpy-1.2.1-cp39-cp39-win_amd64.whl.metadata (5.8 kB)\n",
      "Collecting cycler>=0.10 (from matplotlib<4->mlflow==2.13.0->-r requirements.txt (line 3))\n",
      "  Using cached cycler-0.12.1-py3-none-any.whl.metadata (3.8 kB)\n",
      "Collecting fonttools>=4.22.0 (from matplotlib<4->mlflow==2.13.0->-r requirements.txt (line 3))\n",
      "  Using cached fonttools-4.52.4-cp39-cp39-win_amd64.whl.metadata (164 kB)\n",
      "Collecting kiwisolver>=1.3.1 (from matplotlib<4->mlflow==2.13.0->-r requirements.txt (line 3))\n",
      "  Using cached kiwisolver-1.4.5-cp39-cp39-win_amd64.whl.metadata (6.5 kB)\n",
      "Collecting pillow>=8 (from matplotlib<4->mlflow==2.13.0->-r requirements.txt (line 3))\n",
      "  Using cached pillow-10.3.0-cp39-cp39-win_amd64.whl.metadata (9.4 kB)\n",
      "Collecting pyparsing>=2.3.1 (from matplotlib<4->mlflow==2.13.0->-r requirements.txt (line 3))\n",
      "  Using cached pyparsing-3.1.2-py3-none-any.whl.metadata (5.1 kB)\n",
      "Collecting importlib-resources>=3.2.0 (from matplotlib<4->mlflow==2.13.0->-r requirements.txt (line 3))\n",
      "  Using cached importlib_resources-6.4.0-py3-none-any.whl.metadata (3.9 kB)\n",
      "Collecting deprecated>=1.2.6 (from opentelemetry-api<3,>=1.0.0->mlflow==2.13.0->-r requirements.txt (line 3))\n",
      "  Using cached Deprecated-1.2.14-py2.py3-none-any.whl.metadata (5.4 kB)\n",
      "Collecting importlib-metadata!=4.7.0,<8,>=3.7.0 (from mlflow==2.13.0->-r requirements.txt (line 3))\n",
      "  Using cached importlib_metadata-7.0.0-py3-none-any.whl.metadata (4.9 kB)\n",
      "Collecting opentelemetry-semantic-conventions==0.45b0 (from opentelemetry-sdk<3,>=1.0.0->mlflow==2.13.0->-r requirements.txt (line 3))\n",
      "  Using cached opentelemetry_semantic_conventions-0.45b0-py3-none-any.whl.metadata (2.2 kB)\n",
      "Requirement already satisfied: six>=1.5 in a:\\projects\\unicauca\\maestria\\semestre3\\ads\\mlops\\ads mlops\\.venv\\lib\\site-packages (from python-dateutil>=2.8.2->pandas==2.2.2->-r requirements.txt (line 1)) (1.16.0)\n",
      "Collecting charset-normalizer<4,>=2 (from requests<3,>=2.17.3->mlflow==2.13.0->-r requirements.txt (line 3))\n",
      "  Using cached charset_normalizer-3.3.2-cp39-cp39-win_amd64.whl.metadata (34 kB)\n",
      "Collecting idna<4,>=2.5 (from requests<3,>=2.17.3->mlflow==2.13.0->-r requirements.txt (line 3))\n",
      "  Using cached idna-3.7-py3-none-any.whl.metadata (9.9 kB)\n",
      "Collecting certifi>=2017.4.17 (from requests<3,>=2.17.3->mlflow==2.13.0->-r requirements.txt (line 3))\n",
      "  Using cached certifi-2024.2.2-py3-none-any.whl.metadata (2.2 kB)\n",
      "Collecting greenlet!=0.4.17 (from sqlalchemy<3,>=1.4.0->mlflow==2.13.0->-r requirements.txt (line 3))\n",
      "  Using cached greenlet-3.0.3-cp39-cp39-win_amd64.whl.metadata (3.9 kB)\n",
      "Collecting wrapt<2,>=1.10 (from deprecated>=1.2.6->opentelemetry-api<3,>=1.0.0->mlflow==2.13.0->-r requirements.txt (line 3))\n",
      "  Using cached wrapt-1.16.0-cp39-cp39-win_amd64.whl.metadata (6.8 kB)\n",
      "Collecting smmap<6,>=3.0.1 (from gitdb<5,>=4.0.1->gitpython<4,>=3.1.9->mlflow==2.13.0->-r requirements.txt (line 3))\n",
      "  Using cached smmap-5.0.1-py3-none-any.whl.metadata (4.3 kB)\n",
      "Using cached pandas-2.2.2-cp39-cp39-win_amd64.whl (11.6 MB)\n",
      "Using cached scikit_learn-1.5.0-cp39-cp39-win_amd64.whl (11.0 MB)\n",
      "Using cached mlflow-2.13.0-py3-none-any.whl (25.0 MB)\n",
      "Using cached alembic-1.13.1-py3-none-any.whl (233 kB)\n",
      "Using cached cachetools-5.3.3-py3-none-any.whl (9.3 kB)\n",
      "Using cached click-8.1.7-py3-none-any.whl (97 kB)\n",
      "Using cached cloudpickle-3.0.0-py3-none-any.whl (20 kB)\n",
      "Using cached docker-7.1.0-py3-none-any.whl (147 kB)\n",
      "Using cached entrypoints-0.4-py3-none-any.whl (5.3 kB)\n",
      "Using cached flask-3.0.3-py3-none-any.whl (101 kB)\n",
      "Using cached GitPython-3.1.43-py3-none-any.whl (207 kB)\n",
      "Using cached graphene-3.3-py2.py3-none-any.whl (128 kB)\n",
      "Using cached jinja2-3.1.4-py3-none-any.whl (133 kB)\n",
      "Using cached joblib-1.4.2-py3-none-any.whl (301 kB)\n",
      "Using cached Markdown-3.6-py3-none-any.whl (105 kB)\n",
      "Using cached matplotlib-3.9.0-cp39-cp39-win_amd64.whl (7.9 MB)\n",
      "Using cached numpy-1.26.4-cp39-cp39-win_amd64.whl (15.8 MB)\n",
      "Using cached opentelemetry_api-1.24.0-py3-none-any.whl (60 kB)\n",
      "Using cached importlib_metadata-7.0.0-py3-none-any.whl (23 kB)\n",
      "Using cached opentelemetry_sdk-1.24.0-py3-none-any.whl (106 kB)\n",
      "Using cached opentelemetry_semantic_conventions-0.45b0-py3-none-any.whl (36 kB)\n",
      "Using cached protobuf-4.25.3-cp39-cp39-win_amd64.whl (413 kB)\n",
      "Using cached pyarrow-15.0.2-cp39-cp39-win_amd64.whl (24.9 MB)\n",
      "Using cached pytz-2024.1-py2.py3-none-any.whl (505 kB)\n",
      "Using cached PyYAML-6.0.1-cp39-cp39-win_amd64.whl (152 kB)\n",
      "Using cached querystring_parser-1.2.4-py2.py3-none-any.whl (7.9 kB)\n",
      "Using cached requests-2.32.2-py3-none-any.whl (63 kB)\n",
      "Using cached scipy-1.13.1-cp39-cp39-win_amd64.whl (46.2 MB)\n",
      "Using cached SQLAlchemy-2.0.30-cp39-cp39-win_amd64.whl (2.1 MB)\n",
      "Using cached sqlparse-0.5.0-py3-none-any.whl (43 kB)\n",
      "Using cached threadpoolctl-3.5.0-py3-none-any.whl (18 kB)\n",
      "Using cached tzdata-2024.1-py2.py3-none-any.whl (345 kB)\n",
      "Using cached waitress-3.0.0-py3-none-any.whl (56 kB)\n",
      "Using cached aniso8601-9.0.1-py2.py3-none-any.whl (52 kB)\n",
      "Using cached blinker-1.8.2-py3-none-any.whl (9.5 kB)\n",
      "Using cached certifi-2024.2.2-py3-none-any.whl (163 kB)\n",
      "Using cached charset_normalizer-3.3.2-cp39-cp39-win_amd64.whl (100 kB)\n",
      "Using cached contourpy-1.2.1-cp39-cp39-win_amd64.whl (182 kB)\n",
      "Using cached cycler-0.12.1-py3-none-any.whl (8.3 kB)\n",
      "Using cached Deprecated-1.2.14-py2.py3-none-any.whl (9.6 kB)\n",
      "Downloading fonttools-4.52.4-cp39-cp39-win_amd64.whl (2.2 MB)\n",
      "   ---------------------------------------- 0.0/2.2 MB ? eta -:--:--\n",
      "    --------------------------------------- 0.0/2.2 MB 1.3 MB/s eta 0:00:02\n",
      "    --------------------------------------- 0.0/2.2 MB 393.8 kB/s eta 0:00:06\n",
      "   - -------------------------------------- 0.1/2.2 MB 751.6 kB/s eta 0:00:03\n",
      "   -- ------------------------------------- 0.1/2.2 MB 774.0 kB/s eta 0:00:03\n",
      "   ---- ----------------------------------- 0.2/2.2 MB 981.9 kB/s eta 0:00:03\n",
      "   ----- ---------------------------------- 0.3/2.2 MB 1.2 MB/s eta 0:00:02\n",
      "   -------- ------------------------------- 0.5/2.2 MB 1.6 MB/s eta 0:00:02\n",
      "   ------------ --------------------------- 0.7/2.2 MB 1.8 MB/s eta 0:00:01\n",
      "   ------------- -------------------------- 0.8/2.2 MB 1.9 MB/s eta 0:00:01\n",
      "   --------------- ------------------------ 0.8/2.2 MB 1.9 MB/s eta 0:00:01\n",
      "   ------------------ --------------------- 1.0/2.2 MB 1.9 MB/s eta 0:00:01\n",
      "   --------------------- ------------------ 1.2/2.2 MB 2.0 MB/s eta 0:00:01\n",
      "   ----------------------- ---------------- 1.3/2.2 MB 2.1 MB/s eta 0:00:01\n",
      "   ---------------------------- ----------- 1.5/2.2 MB 2.3 MB/s eta 0:00:01\n",
      "   ---------------------------- ----------- 1.6/2.2 MB 2.3 MB/s eta 0:00:01\n",
      "   ---------------------------- ----------- 1.6/2.2 MB 2.3 MB/s eta 0:00:01\n",
      "   -------------------------------- ------- 1.8/2.2 MB 2.3 MB/s eta 0:00:01\n",
      "   ------------------------------------ --- 2.0/2.2 MB 2.4 MB/s eta 0:00:01\n",
      "   ---------------------------------------- 2.2/2.2 MB 2.5 MB/s eta 0:00:00\n",
      "Using cached gitdb-4.0.11-py3-none-any.whl (62 kB)\n",
      "Using cached graphql_core-3.2.3-py3-none-any.whl (202 kB)\n",
      "Using cached graphql_relay-3.2.0-py3-none-any.whl (16 kB)\n",
      "Using cached greenlet-3.0.3-cp39-cp39-win_amd64.whl (290 kB)\n",
      "Using cached idna-3.7-py3-none-any.whl (66 kB)\n",
      "Using cached importlib_resources-6.4.0-py3-none-any.whl (38 kB)\n",
      "Using cached itsdangerous-2.2.0-py3-none-any.whl (16 kB)\n",
      "Using cached kiwisolver-1.4.5-cp39-cp39-win_amd64.whl (56 kB)\n",
      "Using cached MarkupSafe-2.1.5-cp39-cp39-win_amd64.whl (17 kB)\n",
      "Using cached pillow-10.3.0-cp39-cp39-win_amd64.whl (2.5 MB)\n",
      "Using cached pyparsing-3.1.2-py3-none-any.whl (103 kB)\n",
      "Using cached urllib3-2.2.1-py3-none-any.whl (121 kB)\n",
      "Using cached werkzeug-3.0.3-py3-none-any.whl (227 kB)\n",
      "Using cached Mako-1.3.5-py3-none-any.whl (78 kB)\n",
      "Using cached smmap-5.0.1-py3-none-any.whl (24 kB)\n",
      "Using cached wrapt-1.16.0-cp39-cp39-win_amd64.whl (37 kB)\n",
      "Installing collected packages: pytz, aniso8601, wrapt, waitress, urllib3, tzdata, threadpoolctl, sqlparse, smmap, querystring-parser, pyyaml, pyparsing, protobuf, pillow, opentelemetry-semantic-conventions, numpy, MarkupSafe, kiwisolver, joblib, itsdangerous, importlib-resources, importlib-metadata, idna, greenlet, graphql-core, fonttools, entrypoints, cycler, cloudpickle, click, charset-normalizer, certifi, cachetools, blinker, Werkzeug, sqlalchemy, scipy, requests, pyarrow, pandas, markdown, Mako, Jinja2, graphql-relay, gitdb, deprecated, contourpy, scikit-learn, opentelemetry-api, matplotlib, graphene, gitpython, Flask, docker, alembic, opentelemetry-sdk, mlflow\n",
      "  Attempting uninstall: importlib-metadata\n",
      "    Found existing installation: importlib_metadata 7.1.0\n",
      "    Uninstalling importlib_metadata-7.1.0:\n",
      "      Successfully uninstalled importlib_metadata-7.1.0\n",
      "Successfully installed Flask-3.0.3 Jinja2-3.1.4 Mako-1.3.5 MarkupSafe-2.1.5 Werkzeug-3.0.3 alembic-1.13.1 aniso8601-9.0.1 blinker-1.8.2 cachetools-5.3.3 certifi-2024.2.2 charset-normalizer-3.3.2 click-8.1.7 cloudpickle-3.0.0 contourpy-1.2.1 cycler-0.12.1 deprecated-1.2.14 docker-7.1.0 entrypoints-0.4 fonttools-4.52.4 gitdb-4.0.11 gitpython-3.1.43 graphene-3.3 graphql-core-3.2.3 graphql-relay-3.2.0 greenlet-3.0.3 idna-3.7 importlib-metadata-7.0.0 importlib-resources-6.4.0 itsdangerous-2.2.0 joblib-1.4.2 kiwisolver-1.4.5 markdown-3.6 matplotlib-3.9.0 mlflow-2.13.0 numpy-1.26.4 opentelemetry-api-1.24.0 opentelemetry-sdk-1.24.0 opentelemetry-semantic-conventions-0.45b0 pandas-2.2.2 pillow-10.3.0 protobuf-4.25.3 pyarrow-15.0.2 pyparsing-3.1.2 pytz-2024.1 pyyaml-6.0.1 querystring-parser-1.2.4 requests-2.32.2 scikit-learn-1.5.0 scipy-1.13.1 smmap-5.0.1 sqlalchemy-2.0.30 sqlparse-0.5.0 threadpoolctl-3.5.0 tzdata-2024.1 urllib3-2.2.1 waitress-3.0.0 wrapt-1.16.0\n",
      "Note: you may need to restart the kernel to use updated packages.\n"
     ]
    }
   ],
   "source": [
    "%pip install -r requirements.txt"
   ]
  },
  {
   "cell_type": "code",
   "execution_count": 2,
   "metadata": {},
   "outputs": [],
   "source": [
    "import mlflow\n",
    "from sklearn.linear_model import LogisticRegression\n",
    "from sklearn.datasets import load_iris\n",
    "from sklearn.metrics import accuracy_score\n",
    "import logging\n",
    "\n",
    "\n",
    "logging.basicConfig(level=logging.WARN)\n",
    "logger = logging.getLogger(__name__)"
   ]
  },
  {
   "cell_type": "markdown",
   "metadata": {},
   "source": [
    "# Get Data"
   ]
  },
  {
   "cell_type": "code",
   "execution_count": 3,
   "metadata": {},
   "outputs": [],
   "source": [
    "# iris = load_iris()\n",
    "# To Show Metada\n",
    "# iris.DESCR\n",
    "# print(iris.feature_names)"
   ]
  },
  {
   "cell_type": "code",
   "execution_count": 4,
   "metadata": {},
   "outputs": [],
   "source": [
    "X, y = load_iris(return_X_y= True)"
   ]
  },
  {
   "cell_type": "markdown",
   "metadata": {},
   "source": [
    "# Config MLFlow run"
   ]
  },
  {
   "cell_type": "code",
   "execution_count": 5,
   "metadata": {},
   "outputs": [
    {
     "data": {
      "text/plain": [
       "'file:///a:/projects/unicauca/maestria/semestre3/ADS/MLOps/ADS%20MLops/mlruns'"
      ]
     },
     "execution_count": 5,
     "metadata": {},
     "output_type": "execute_result"
    }
   ],
   "source": [
    "mlflow.get_tracking_uri()"
   ]
  },
  {
   "cell_type": "code",
   "execution_count": 10,
   "metadata": {},
   "outputs": [
    {
     "name": "stdout",
     "output_type": "stream",
     "text": [
      "default artifact location: 'file:///a:/projects/unicauca/maestria/semestre3/ADS/MLOps/ADS%20MLops/mlruns/456926303630442138/fecf13bb22c6450bbc925e9adb90dcf4/artifacts'\n"
     ]
    }
   ],
   "source": [
    "mlflow.set_experiment(\"ADS_iris_experiment\")\n",
    "with mlflow.start_run(run_name = \"example_1\"):\n",
    "\n",
    "    X, y = load_iris(return_X_y= True)\n",
    "    params = {\"C\": 0.1, \n",
    "              \"random_state\": 42}\n",
    "    mlflow.log_params(params)\n",
    "    lr = LogisticRegression(**params).fit(X, y)\n",
    "    y_pred = lr.predict(X)\n",
    "    mlflow.log_metric(\"accuracy\", accuracy_score(y, y_pred))\n",
    "    mlflow.sklearn.log_model(lr, \"model\")\n",
    "    print(f\"default artifact location: '{mlflow.get_artifact_uri()}'\")\n"
   ]
  },
  {
   "cell_type": "code",
   "execution_count": 11,
   "metadata": {},
   "outputs": [],
   "source": [
    "mlflow.end_run()"
   ]
  },
  {
   "cell_type": "code",
   "execution_count": null,
   "metadata": {},
   "outputs": [],
   "source": []
  },
  {
   "cell_type": "code",
   "execution_count": null,
   "metadata": {},
   "outputs": [],
   "source": []
  }
 ],
 "metadata": {
  "kernelspec": {
   "display_name": "Python 3",
   "language": "python",
   "name": "python3"
  },
  "language_info": {
   "codemirror_mode": {
    "name": "ipython",
    "version": 3
   },
   "file_extension": ".py",
   "mimetype": "text/x-python",
   "name": "python",
   "nbconvert_exporter": "python",
   "pygments_lexer": "ipython3",
   "version": "3.9.2"
  }
 },
 "nbformat": 4,
 "nbformat_minor": 2
}
